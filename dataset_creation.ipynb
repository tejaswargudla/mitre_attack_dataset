{
 "cells": [
  {
   "cell_type": "code",
   "execution_count": 1,
   "id": "9a17cfec-e009-4a78-b652-758c1d1f2391",
   "metadata": {},
   "outputs": [
    {
     "name": "stderr",
     "output_type": "stream",
     "text": [
      "C:\\Users\\tejas\\AppData\\Local\\Programs\\Python\\Python310\\lib\\site-packages\\tqdm\\auto.py:21: TqdmWarning: IProgress not found. Please update jupyter and ipywidgets. See https://ipywidgets.readthedocs.io/en/stable/user_install.html\n",
      "  from .autonotebook import tqdm as notebook_tqdm\n"
     ]
    }
   ],
   "source": [
    "import pandas as pd\n",
    "from bs4 import BeautifulSoup\n",
    "import requests\n",
    "import datasets\n",
    "import re\n",
    "import os"
   ]
  },
  {
   "cell_type": "code",
   "execution_count": 2,
   "id": "c7543fe0-f450-4ddf-9766-a5026648fdbe",
   "metadata": {},
   "outputs": [],
   "source": [
    "techniques_url =  \"https://attack.mitre.org/docs/enterprise-attack-v15.1/enterprise-attack-v15.1-techniques.xlsx\"\n",
    "tactics_url = \"https://attack.mitre.org/docs/enterprise-attack-v15.1/enterprise-attack-v15.1-tactics.xlsx\""
   ]
  },
  {
   "cell_type": "code",
   "execution_count": 3,
   "id": "da47346a-7f07-4b01-bdc6-38c3601a21e7",
   "metadata": {},
   "outputs": [],
   "source": [
    "df = pd.DataFrame(columns=[\"Question\",\"Answer\"])"
   ]
  },
  {
   "cell_type": "code",
   "execution_count": 4,
   "id": "2d9e84fd-5de9-4683-8e68-bce63f82aabe",
   "metadata": {},
   "outputs": [],
   "source": [
    "tactics_df = pd.read_excel(tactics_url)"
   ]
  },
  {
   "cell_type": "markdown",
   "id": "237bc774-f5d6-441a-a5dc-12f8829892f7",
   "metadata": {},
   "source": [
    "# Tactics"
   ]
  },
  {
   "cell_type": "code",
   "execution_count": 5,
   "id": "822dba70-7662-461c-bcc8-5f13834b1eeb",
   "metadata": {},
   "outputs": [],
   "source": [
    "for index, row in tactics_df.iterrows():\n",
    "    url = row.get(\"url\", \"\")\n",
    "    response = requests.get(url)\n",
    "    soup = BeautifulSoup(response.text, \"html.parser\")\n",
    "    div = soup.find(\"div\", class_=\"description-body\")\n",
    "\n",
    "    tactic_name = row.get(\"name\")\n",
    "    question = f\"What is the description of tactic, {tactic_name} according to Mitre Attack framework?\"\n",
    "    df.loc[len(df)] = [question, row.get(\"description\",\"\") + div.get_text()]"
   ]
  },
  {
   "cell_type": "markdown",
   "id": "5e0422e1-a79d-4768-9774-e6efa2bebced",
   "metadata": {},
   "source": [
    "# Techniques"
   ]
  },
  {
   "cell_type": "code",
   "execution_count": 6,
   "id": "0831b218-85b3-469b-9147-6ffb148aceb5",
   "metadata": {},
   "outputs": [],
   "source": [
    "techniques_df = pd.read_excel(techniques_url)"
   ]
  },
  {
   "cell_type": "code",
   "execution_count": 7,
   "id": "52746981-7c05-4552-bc81-883fde80d079",
   "metadata": {},
   "outputs": [],
   "source": [
    "def remove_digit_brackets(text):\n",
    "    pattern = r'\\[\\d+\\]'\n",
    "    cleaned_text = re.sub(pattern, \"\", text)\n",
    "    return cleaned_text"
   ]
  },
  {
   "cell_type": "code",
   "execution_count": 8,
   "id": "85e92a57-c3dc-4a06-969b-eef8dec9ec0d",
   "metadata": {},
   "outputs": [],
   "source": [
    "def get_technique_df(row, description):\n",
    "    technique_name = row.get(\"name\")\n",
    "    qna_dict = {}\n",
    "    qna_dict[\"Question\"] = [f\"What is the description of technique, {technique_name} according to Mitre Attack framework?\",\n",
    "                            f\"Which platforms does technique, {technique_name} primarily target according to Mitre Attack framework?\",\n",
    "                            f\"How to detect or prevent technique, {technique_name} from being exploited?\",\n",
    "                            f\"What is the technique id for technique, {technique_name} according to mitre attack framework?\",\n",
    "                            f\"What are the tactics does this technique, {technique_name} belongs to?\"]\n",
    "\n",
    "    qna_dict[\"Answer\"] = [row.get('description'),\n",
    "                          f\"The technique {technique_name} targets or exploits these platforms {row.get('platforms')}\",\n",
    "                          row.get('detection'),\n",
    "                          f\"The technique id of the technique {technique_name} is {row.get('ID')}\",\n",
    "                          f\"The technique {technique_name} belongs to these tactics {row.get('tactics')}\"]\n",
    "    return pd.DataFrame(qna_dict)"
   ]
  },
  {
   "cell_type": "code",
   "execution_count": 9,
   "id": "018b9d22-1c44-4943-afc1-8ad7893b20e5",
   "metadata": {},
   "outputs": [],
   "source": [
    "for index, row in techniques_df.iterrows():\n",
    "    url = row.get(\"url\", \"\")\n",
    "    response = requests.get(url)\n",
    "    soup = BeautifulSoup(response.text, \"html.parser\")\n",
    "    div = soup.find(\"div\", class_=\"description-body\")\n",
    "    description = remove_digit_brackets(div.get_text())\n",
    "    tmp_df = get_technique_df(row, description)\n",
    "\n",
    "    df = pd.concat([df, tmp_df]).reset_index(drop=True)\n",
    "    "
   ]
  },
  {
   "cell_type": "code",
   "execution_count": 12,
   "id": "721078ac-01ae-41bf-9bb2-a80739233a6e",
   "metadata": {},
   "outputs": [],
   "source": [
    "dataset = datasets.Dataset.from_pandas(df)"
   ]
  },
  {
   "cell_type": "code",
   "execution_count": 14,
   "id": "cdf7af07-9fd2-424d-8ed0-363512a338d6",
   "metadata": {},
   "outputs": [
    {
     "name": "stderr",
     "output_type": "stream",
     "text": [
      "Uploading the dataset shards:   0%|                                                              | 0/1 [00:00<?, ?it/s]\n",
      "Creating parquet from Arrow format: 100%|███████████████████████████████████████████████| 4/4 [00:00<00:00, 570.71ba/s]\u001b[A\n",
      "Uploading the dataset shards: 100%|██████████████████████████████████████████████████████| 1/1 [00:01<00:00,  1.26s/it]\n"
     ]
    },
    {
     "data": {
      "text/plain": [
       "CommitInfo(commit_url='https://huggingface.co/datasets/Tejeswara/mitre_attack_tactics_tachniques_instruction_cybersec/commit/7adf70b500cfaa444773b812e221ce5443745f09', commit_message='Upload dataset', commit_description='', oid='7adf70b500cfaa444773b812e221ce5443745f09', pr_url=None, pr_revision=None, pr_num=None)"
      ]
     },
     "execution_count": 14,
     "metadata": {},
     "output_type": "execute_result"
    }
   ],
   "source": [
    "dataset.push_to_hub(\"Tejeswara/cybersec_mitre_attack_tactics_techniques_instruction_data\")"
   ]
  }
 ],
 "metadata": {
  "kernelspec": {
   "display_name": "Python 3 (ipykernel)",
   "language": "python",
   "name": "python3"
  },
  "language_info": {
   "codemirror_mode": {
    "name": "ipython",
    "version": 3
   },
   "file_extension": ".py",
   "mimetype": "text/x-python",
   "name": "python",
   "nbconvert_exporter": "python",
   "pygments_lexer": "ipython3",
   "version": "3.10.8"
  }
 },
 "nbformat": 4,
 "nbformat_minor": 5
}
